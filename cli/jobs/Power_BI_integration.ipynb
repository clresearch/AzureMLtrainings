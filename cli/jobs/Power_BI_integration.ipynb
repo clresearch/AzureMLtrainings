{
 "cells": [
  {
   "cell_type": "markdown",
   "id": "cab0ca5e",
   "metadata": {},
   "source": [
    "# Create a notebook and compute"
   ]
  },
  {
   "cell_type": "code",
   "execution_count": 1,
   "id": "224a88e8",
   "metadata": {},
   "outputs": [
    {
     "data": {
      "text/plain": [
       "0.1411200080598672"
      ]
     },
     "execution_count": 1,
     "metadata": {},
     "output_type": "execute_result"
    }
   ],
   "source": [
    "import numpy as np\n",
    "np.sin(3)"
   ]
  },
  {
   "cell_type": "markdown",
   "id": "ed9ef789",
   "metadata": {},
   "source": [
    "# Build a model by using scikit-learn"
   ]
  },
  {
   "cell_type": "markdown",
   "id": "3bf2995e",
   "metadata": {},
   "source": [
    "##  Import data"
   ]
  },
  {
   "cell_type": "code",
   "execution_count": null,
   "id": "a51d0717",
   "metadata": {},
   "outputs": [],
   "source": [
    "from azureml.opendatasets import Diabetes\n",
    "\n",
    "diabetes = Diabetes.get_tabular_dataset()\n",
    "X = diabetes.drop_columns(\"Y\")\n",
    "y = diabetes.keep_columns(\"Y\")\n",
    "X_df = X.to_pandas_dataframe()\n",
    "y_df = y.to_pandas_dataframe()\n",
    "X_df.info()"
   ]
  },
  {
   "cell_type": "markdown",
   "id": "7271d1d0",
   "metadata": {},
   "source": [
    "## Train the model"
   ]
  },
  {
   "cell_type": "code",
   "execution_count": null,
   "id": "26f2fa7f",
   "metadata": {},
   "outputs": [],
   "source": [
    "import joblib\n",
    "from sklearn.linear_model import Ridge\n",
    "\n",
    "model = Ridge().fit(X_df,y_df)\n",
    "joblib.dump(model, 'sklearn_regression_model.pkl')"
   ]
  },
  {
   "cell_type": "markdown",
   "id": "5b089080",
   "metadata": {},
   "source": [
    "## Register the model"
   ]
  },
  {
   "cell_type": "code",
   "execution_count": null,
   "id": "c3a2e66a",
   "metadata": {},
   "outputs": [],
   "source": [
    "import sklearn\n",
    "\n",
    "from azureml.core import Workspace\n",
    "from azureml.core import Model\n",
    "from azureml.core.resource_configuration import ResourceConfiguration\n",
    "\n",
    "ws = Workspace.from_config()\n",
    "\n",
    "model = Model.register(workspace=ws,\n",
    "                       model_name='my-sklearn-model',                # Name of the registered model in your workspace.\n",
    "                       model_path='./sklearn_regression_model.pkl',  # Local file to upload and register as a model.\n",
    "                       model_framework=Model.Framework.SCIKITLEARN,  # Framework used to create the model.\n",
    "                       model_framework_version=sklearn.__version__,  # Version of scikit-learn used to create the model.\n",
    "                       sample_input_dataset=X,\n",
    "                       sample_output_dataset=y,\n",
    "                       resource_configuration=ResourceConfiguration(cpu=2, memory_in_gb=4),\n",
    "                       description='Ridge regression model to predict diabetes progression.',\n",
    "                       tags={'area': 'diabetes', 'type': 'regression'})\n",
    "\n",
    "print('Name:', model.name)\n",
    "print('Version:', model.version)"
   ]
  },
  {
   "cell_type": "markdown",
   "id": "87fa7972",
   "metadata": {},
   "source": [
    "## Define the scoring script"
   ]
  },
  {
   "cell_type": "code",
   "execution_count": null,
   "id": "425faff4",
   "metadata": {},
   "outputs": [],
   "source": [
    "%%writefile score.py\n",
    "\n",
    "import json\n",
    "import pickle\n",
    "import numpy as np\n",
    "import pandas as pd\n",
    "import os\n",
    "import joblib\n",
    "from azureml.core.model import Model\n",
    "\n",
    "from inference_schema.schema_decorators import input_schema, output_schema\n",
    "from inference_schema.parameter_types.numpy_parameter_type import NumpyParameterType\n",
    "from inference_schema.parameter_types.pandas_parameter_type import PandasParameterType\n",
    "\n",
    "\n",
    "def init():\n",
    "    global model\n",
    "    # Replace filename if needed.\n",
    "    path = os.getenv('AZUREML_MODEL_DIR') \n",
    "    model_path = os.path.join(path, 'sklearn_regression_model.pkl')\n",
    "    # Deserialize the model file back into a sklearn model.\n",
    "    model = joblib.load(model_path)\n",
    "\n",
    "\n",
    "input_sample = pd.DataFrame(data=[{\n",
    "    \"AGE\": 5,\n",
    "    \"SEX\": 2,\n",
    "    \"BMI\": 3.1,\n",
    "    \"BP\": 3.1,\n",
    "    \"S1\": 3.1,\n",
    "    \"S2\": 3.1,\n",
    "    \"S3\": 3.1,\n",
    "    \"S4\": 3.1,\n",
    "    \"S5\": 3.1,\n",
    "    \"S6\": 3.1\n",
    "}])\n",
    "\n",
    "# This is an integer type sample. Use the data type that reflects the expected result.\n",
    "output_sample = np.array([0])\n",
    "\n",
    "# To indicate that we support a variable length of data input,\n",
    "# set enforce_shape=False\n",
    "@input_schema('data', PandasParameterType(input_sample))\n",
    "@output_schema(NumpyParameterType(output_sample))\n",
    "def run(data):\n",
    "    try:\n",
    "        print(\"input_data....\")\n",
    "        print(data.columns)\n",
    "        print(type(data))\n",
    "        result = model.predict(data)\n",
    "        print(\"result.....\")\n",
    "        print(result)\n",
    "    # You can return any data type, as long as it can be serialized by JSON.\n",
    "        return result.tolist()\n",
    "    except Exception as e:\n",
    "        error = str(e)\n",
    "        return error"
   ]
  },
  {
   "cell_type": "markdown",
   "id": "b16785ff",
   "metadata": {},
   "source": [
    "## Define the custom environment"
   ]
  },
  {
   "cell_type": "code",
   "execution_count": null,
   "id": "39a71753",
   "metadata": {},
   "outputs": [],
   "source": [
    "from azureml.core.model import InferenceConfig\n",
    "from azureml.core import Environment\n",
    "from azureml.core.conda_dependencies import CondaDependencies\n",
    "\n",
    "environment = Environment('my-sklearn-environment')\n",
    "environment.python.conda_dependencies = CondaDependencies.create(pip_packages=[\n",
    "    'azureml-defaults',\n",
    "    'inference-schema[numpy-support]',\n",
    "    'joblib',\n",
    "    'numpy',\n",
    "    'pandas',\n",
    "    'scikit-learn=={}'.format(sklearn.__version__)\n",
    "])\n",
    "\n",
    "inference_config = InferenceConfig(entry_script='./score.py',environment=environment)"
   ]
  },
  {
   "cell_type": "markdown",
   "id": "ec1dab76",
   "metadata": {},
   "source": [
    "## Deploy the model"
   ]
  },
  {
   "cell_type": "code",
   "execution_count": null,
   "id": "45bb9124",
   "metadata": {},
   "outputs": [],
   "source": [
    "service_name = 'my-diabetes-model'\n",
    "\n",
    "service = Model.deploy(ws, service_name, [model], inference_config, overwrite=True)\n",
    "service.wait_for_deployment(show_output=True)"
   ]
  },
  {
   "cell_type": "code",
   "execution_count": null,
   "id": "fadd1f13",
   "metadata": {},
   "outputs": [],
   "source": [
    "import json\n",
    "\n",
    "input_payload = json.dumps({\n",
    "    'data': X_df[0:2].values.tolist()\n",
    "})\n",
    "\n",
    "output = service.run(input_payload)\n",
    "\n",
    "print(output)"
   ]
  }
 ],
 "metadata": {
  "kernelspec": {
   "display_name": "Python 3 (ipykernel)",
   "language": "python",
   "name": "python3"
  },
  "language_info": {
   "codemirror_mode": {
    "name": "ipython",
    "version": 3
   },
   "file_extension": ".py",
   "mimetype": "text/x-python",
   "name": "python",
   "nbconvert_exporter": "python",
   "pygments_lexer": "ipython3",
   "version": "3.9.7"
  }
 },
 "nbformat": 4,
 "nbformat_minor": 5
}
